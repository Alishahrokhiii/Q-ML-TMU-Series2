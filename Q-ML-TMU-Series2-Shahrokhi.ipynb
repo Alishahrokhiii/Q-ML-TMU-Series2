{
 "cells": [
  {
   "cell_type": "code",
   "execution_count": 62,
   "id": "54ec0527",
   "metadata": {},
   "outputs": [],
   "source": [
    "import numpy as np\n",
    "import matplotlib.pyplot as plt\n",
    "from sklearn.model_selection import train_test_split\n",
    "from sklearn.linear_model import LinearRegression\n",
    "from sklearn.preprocessing import PolynomialFeatures\n",
    "import sklearn.metrics as metrics\n",
    "import pandas as pd\n",
    "import os\n",
    "import glob\n"
   ]
  },
  {
   "cell_type": "code",
   "execution_count": 63,
   "id": "1aa0649f",
   "metadata": {},
   "outputs": [],
   "source": [
    "def evaluate( trainX , trainY , testX , testY,y_hat):\n",
    "    print(\"\\n#################\\n\")\n",
    "\n",
    "    \n",
    "    testY = trainY[0:50]\n",
    "    trainY = trainY[0:50]\n",
    "    trainX = trainX[0:50]\n",
    "    testX = testX[0:50]\n",
    "    y_hat = y_hat[0:50]\n",
    "    rmse_tr =  metrics.mean_squared_error(trainY, y_hat)\n",
    "    rmse_te =  metrics.mean_squared_error(testY, y_hat)\n",
    "\n",
    "    mae_tr = metrics.mean_absolute_error(trainY, y_hat)\n",
    "    mae_te = metrics.mean_absolute_error(testY, y_hat)\n",
    "\n",
    "    print(\"RMSE train:\", rmse_tr)\n",
    "    print(\"RMSE test:\", rmse_te)\n",
    "\n",
    "    print(\"MAE train:\", mae_tr)\n",
    "    print(\"MAE test:\", mae_te)\n",
    "\n",
    "    return rmse_tr , rmse_te ,mae_tr , mae_te\n"
   ]
  },
  {
   "cell_type": "code",
   "execution_count": 64,
   "id": "c58f7049",
   "metadata": {},
   "outputs": [
    {
     "data": {
      "text/html": [
       "<div>\n",
       "<style scoped>\n",
       "    .dataframe tbody tr th:only-of-type {\n",
       "        vertical-align: middle;\n",
       "    }\n",
       "\n",
       "    .dataframe tbody tr th {\n",
       "        vertical-align: top;\n",
       "    }\n",
       "\n",
       "    .dataframe thead th {\n",
       "        text-align: right;\n",
       "    }\n",
       "</style>\n",
       "<table border=\"1\" class=\"dataframe\">\n",
       "  <thead>\n",
       "    <tr style=\"text-align: right;\">\n",
       "      <th></th>\n",
       "      <th>x</th>\n",
       "      <th>t</th>\n",
       "    </tr>\n",
       "  </thead>\n",
       "  <tbody>\n",
       "    <tr>\n",
       "      <th>0</th>\n",
       "      <td>0.023734</td>\n",
       "      <td>0.148573</td>\n",
       "    </tr>\n",
       "    <tr>\n",
       "      <th>1</th>\n",
       "      <td>0.081460</td>\n",
       "      <td>0.489775</td>\n",
       "    </tr>\n",
       "    <tr>\n",
       "      <th>2</th>\n",
       "      <td>0.112843</td>\n",
       "      <td>0.651087</td>\n",
       "    </tr>\n",
       "    <tr>\n",
       "      <th>3</th>\n",
       "      <td>0.124001</td>\n",
       "      <td>0.702655</td>\n",
       "    </tr>\n",
       "    <tr>\n",
       "      <th>4</th>\n",
       "      <td>0.162254</td>\n",
       "      <td>0.851831</td>\n",
       "    </tr>\n",
       "    <tr>\n",
       "      <th>...</th>\n",
       "      <td>...</td>\n",
       "      <td>...</td>\n",
       "    </tr>\n",
       "    <tr>\n",
       "      <th>125</th>\n",
       "      <td>0.478111</td>\n",
       "      <td>0.148766</td>\n",
       "    </tr>\n",
       "    <tr>\n",
       "      <th>126</th>\n",
       "      <td>0.151536</td>\n",
       "      <td>0.814702</td>\n",
       "    </tr>\n",
       "    <tr>\n",
       "      <th>127</th>\n",
       "      <td>0.218638</td>\n",
       "      <td>-3.000000</td>\n",
       "    </tr>\n",
       "    <tr>\n",
       "      <th>128</th>\n",
       "      <td>0.724561</td>\n",
       "      <td>-0.991484</td>\n",
       "    </tr>\n",
       "    <tr>\n",
       "      <th>129</th>\n",
       "      <td>0.302357</td>\n",
       "      <td>0.941223</td>\n",
       "    </tr>\n",
       "  </tbody>\n",
       "</table>\n",
       "<p>130 rows × 2 columns</p>\n",
       "</div>"
      ],
      "text/plain": [
       "            x         t\n",
       "0    0.023734  0.148573\n",
       "1    0.081460  0.489775\n",
       "2    0.112843  0.651087\n",
       "3    0.124001  0.702655\n",
       "4    0.162254  0.851831\n",
       "..        ...       ...\n",
       "125  0.478111  0.148766\n",
       "126  0.151536  0.814702\n",
       "127  0.218638 -3.000000\n",
       "128  0.724561 -0.991484\n",
       "129  0.302357  0.941223\n",
       "\n",
       "[130 rows x 2 columns]"
      ]
     },
     "execution_count": 64,
     "metadata": {},
     "output_type": "execute_result"
    }
   ],
   "source": [
    "# list all csv files only\n",
    "#csv_files = glob.glob('*.{}'.format('csv'),)\n",
    "csv_files\n",
    "\n",
    "\n",
    "dirty_training_set = pd.concat([pd.read_csv(f) for f in csv_files ], ignore_index=True)\n",
    "dirty_training_set "
   ]
  },
  {
   "cell_type": "code",
   "execution_count": 65,
   "id": "85da9454",
   "metadata": {},
   "outputs": [],
   "source": [
    "df_test = pd.read_csv('data3.csv')"
   ]
  },
  {
   "cell_type": "code",
   "execution_count": 66,
   "id": "d00a3a40",
   "metadata": {},
   "outputs": [],
   "source": [
    "training_set = dirty_training_set.dropna() "
   ]
  },
  {
   "cell_type": "code",
   "execution_count": 67,
   "id": "8adac94b",
   "metadata": {},
   "outputs": [
    {
     "name": "stdout",
     "output_type": "stream",
     "text": [
      "Rows before clean:  260 \n",
      "\n",
      "Rows after clean:  260 \n",
      "\n"
     ]
    }
   ],
   "source": [
    "print (\"Rows before clean: \", dirty_training_set.size, \"\\n\")\n",
    "print (\"Rows after clean: \", training_set.size, \"\\n\")"
   ]
  },
  {
   "cell_type": "code",
   "execution_count": 68,
   "id": "d16eb0de",
   "metadata": {},
   "outputs": [],
   "source": [
    "x_training_set = training_set['x'].values\n",
    "y_training_set = training_set['t'].values"
   ]
  },
  {
   "cell_type": "code",
   "execution_count": 69,
   "id": "471f207a",
   "metadata": {},
   "outputs": [],
   "source": [
    "X_test = df_test['x'].values\n",
    "y_test = df_test['t'].values"
   ]
  },
  {
   "cell_type": "code",
   "execution_count": 70,
   "id": "6ff176b0",
   "metadata": {},
   "outputs": [],
   "source": [
    "lin = LinearRegression()\n",
    "lin.fit(x_training_set.reshape(-1,1),y_training_set)\n",
    "\n",
    "\n",
    "y_hat1 = lin.predict(x_training_set.reshape(-1,1))"
   ]
  },
  {
   "cell_type": "code",
   "execution_count": 71,
   "id": "898eb07b",
   "metadata": {},
   "outputs": [
    {
     "data": {
      "image/png": "[encoded data removed]",
      "text/plain": [
       "<Figure size 640x480 with 1 Axes>"
      ]
     },
     "metadata": {},
     "output_type": "display_data"
    }
   ],
   "source": [
    "plt.scatter(x_training_set, y_training_set , color = 'blue')\n",
    "plt.plot(x_training_set, y_hat1, color = 'red')\n",
    "plt.title('Linear Regression')\n",
    "plt.xlabel('T')\n",
    "plt.ylabel('P')\n",
    "  \n",
    "plt.show()"
   ]
  },
  {
   "cell_type": "code",
   "execution_count": 72,
   "id": "cae20032",
   "metadata": {},
   "outputs": [
    {
     "name": "stdout",
     "output_type": "stream",
     "text": [
      "\n",
      "#################\n",
      "\n",
      "RMSE train: 0.1795179504870559\n",
      "RMSE test: 0.1795179504870559\n",
      "MAE train: 0.3691730260956962\n",
      "MAE test: 0.3691730260956962\n",
      "(0.1795179504870559, 0.1795179504870559, 0.3691730260956962, 0.3691730260956962)\n"
     ]
    }
   ],
   "source": [
    "print(evaluate( x_training_set, y_training_set , X_test , y_test,y_hat1))"
   ]
  },
  {
   "cell_type": "code",
   "execution_count": 73,
   "id": "6ee0cdc0",
   "metadata": {},
   "outputs": [],
   "source": [
    "poly = PolynomialFeatures(degree = 4)\n",
    "X_poly = poly.fit_transform(x_training_set.reshape(-1,1))\n",
    "poly.fit(X_poly, y_training_set)\n",
    "lin2 = LinearRegression()\n",
    "lin2.fit(X_poly, y_training_set)\n",
    "\n",
    "y_hat2 = lin2.predict(poly.fit_transform(x_training_set.reshape(-1,1)))"
   ]
  },
  {
   "cell_type": "code",
   "execution_count": 74,
   "id": "ebe28505",
   "metadata": {},
   "outputs": [
    {
     "ename": "TypeError",
     "evalue": "scatter() missing 2 required positional arguments: 'x' and 'y'",
     "output_type": "error",
     "traceback": [
      "\u001b[0;31m---------------------------------------------------------------------------\u001b[0m",
      "\u001b[0;31mTypeError\u001b[0m                                 Traceback (most recent call last)",
      "Cell \u001b[0;32mIn[74], line 2\u001b[0m\n\u001b[1;32m      1\u001b[0m \u001b[39m# Visualising the Linear Regression results\u001b[39;00m\n\u001b[0;32m----> 2\u001b[0m plt\u001b[39m.\u001b[39;49mscatter( color \u001b[39m=\u001b[39;49m \u001b[39m'\u001b[39;49m\u001b[39mblue\u001b[39;49m\u001b[39m'\u001b[39;49m)\n\u001b[1;32m      4\u001b[0m plt\u001b[39m.\u001b[39mplot(x_training_set, y_hat1, color \u001b[39m=\u001b[39m \u001b[39m'\u001b[39m\u001b[39mred\u001b[39m\u001b[39m'\u001b[39m)\n\u001b[1;32m      5\u001b[0m plt\u001b[39m.\u001b[39mtitle(\u001b[39m'\u001b[39m\u001b[39mLinear Regression\u001b[39m\u001b[39m'\u001b[39m)\n",
      "\u001b[0;31mTypeError\u001b[0m: scatter() missing 2 required positional arguments: 'x' and 'y'"
     ]
    }
   ],
   "source": [
    "# Visualising the Linear Regression results\n",
    "plt.scatter( color = 'blue')\n",
    "  \n",
    "plt.plot(x_training_set, y_hat1, color = 'red')\n",
    "plt.title('Linear Regression')\n",
    "plt.xlabel('T')\n",
    "plt.ylabel('P')\n",
    "plt.show()\n",
    "plt.plot(x_training_set, y_hat2, color = 'red')\n",
    "plt.title('Linear Regression')\n",
    "plt.xlabel('T')\n",
    "plt.ylabel('P')\n",
    "  \n",
    "plt.show()"
   ]
  },
  {
   "cell_type": "code",
   "execution_count": null,
   "id": "48e6f543",
   "metadata": {},
   "outputs": [],
   "source": [
    "print(evaluate( x_training_set, y_training_set , X_test , y_test,y_hat2))"
   ]
  },
  {
   "cell_type": "code",
   "execution_count": null,
   "id": "bc490d63",
   "metadata": {},
   "outputs": [],
   "source": [
    "poly = PolynomialFeatures(degree = 5)\n",
    "X_poly = poly.fit_transform(x_training_set.reshape(-1,1))\n",
    "\n",
    "poly.fit(X_poly, y_training_set)\n",
    "lin2 = LinearRegression()\n",
    "lin2.fit(X_poly, y_training_set)\n",
    "\n",
    "y_hat3 = lin2.predict(poly.fit_transform(x_training_set.reshape(-1,1)))"
   ]
  },
  {
   "cell_type": "code",
   "execution_count": null,
   "id": "f1372127",
   "metadata": {},
   "outputs": [],
   "source": [
    "# Visualising the Linear Regression results\n",
    "plt.scatter(X, y, color = 'blue')\n",
    "  \n",
    "plt.plot(x_training_set, y_hat, color = 'red')\n",
    "plt.title('Linear Regression')\n",
    "plt.xlabel('T')\n",
    "plt.ylabel('P')\n",
    "  \n",
    "plt.show()"
   ]
  },
  {
   "cell_type": "code",
   "execution_count": null,
   "id": "982b6a5e",
   "metadata": {},
   "outputs": [],
   "source": [
    "print(evaluate( x_training_set, y_training_set , X_test , y_test,y_hat3))"
   ]
  },
  {
   "cell_type": "code",
   "execution_count": null,
   "id": "5a0835d5",
   "metadata": {},
   "outputs": [],
   "source": []
  }
 ],
 "metadata": {
  "kernelspec": {
   "display_name": "Python 3",
   "language": "python",
   "name": "python3"
  },
  "language_info": {
   "codemirror_mode": {
    "name": "ipython",
    "version": 3
   },
   "file_extension": ".py",
   "mimetype": "text/x-python",
   "name": "python",
   "nbconvert_exporter": "python",
   "pygments_lexer": "ipython3",
   "version": "3.10.5"
  },
  "vscode": {
   "interpreter": {
    "hash": "aee8b7b246df8f9039afb4144a1f6fd8d2ca17a180786b69acc140d282b71a49"
   }
  }
 },
 "nbformat": 4,
 "nbformat_minor": 5
}
