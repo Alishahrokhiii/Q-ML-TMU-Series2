{
 "cells": [
  {
   "cell_type": "code",
   "execution_count": 4,
   "id": "54ec0527",
   "metadata": {},
   "outputs": [],
   "source": [
    "import numpy as np\n",
    "import matplotlib.pyplot as plt\n",
    "from sklearn.model_selection import train_test_split\n",
    "from sklearn.linear_model import LinearRegression\n",
    "from sklearn.preprocessing import PolynomialFeatures\n",
    "import sklearn.metrics as metrics\n",
    "import pandas as pd\n",
    "import os\n",
    "import glob\n"
   ]
  },
  {
   "cell_type": "code",
   "execution_count": 94,
   "id": "1aa0649f",
   "metadata": {},
   "outputs": [],
   "source": [
    "def evaluate( trainX , trainY , testX , testY,y_hat):\n",
    "    print(\"\\n#################\\n\")\n",
    "\n",
    "    \n",
    "    testY = trainY[0:50]\n",
    "    trainY = trainY[0:50]\n",
    "    trainX = trainX[0:50]\n",
    "    testX = testX[0:50]\n",
    "    y_hat = y_hat[0:50]\n",
    "    rmse_tr =  metrics.mean_squared_error(trainY, y_hat)\n",
    "    rmse_te =  metrics.mean_squared_error(testY, y_hat)\n",
    "\n",
    "    mae_tr = metrics.mean_absolute_error(trainY, y_hat)\n",
    "    mae_te = metrics.mean_absolute_error(testY, y_hat)\n",
    "\n",
    "    print(\"RMSE train:\", rmse_tr)\n",
    "    print(\"RMSE test:\", rmse_te)\n",
    "\n",
    "    print(\"MAE train:\", mae_tr)\n",
    "    print(\"MAE test:\", mae_te)\n",
    "\n",
    "    return rmse_tr , rmse_te ,mae_tr , mae_te\n"
   ]
  },
  {
   "cell_type": "code",
   "execution_count": 22,
   "id": "c58f7049",
   "metadata": {},
   "outputs": [
    {
     "data": {
      "text/html": [
       "<div>\n",
       "<style scoped>\n",
       "    .dataframe tbody tr th:only-of-type {\n",
       "        vertical-align: middle;\n",
       "    }\n",
       "\n",
       "    .dataframe tbody tr th {\n",
       "        vertical-align: top;\n",
       "    }\n",
       "\n",
       "    .dataframe thead th {\n",
       "        text-align: right;\n",
       "    }\n",
       "</style>\n",
       "<table border=\"1\" class=\"dataframe\">\n",
       "  <thead>\n",
       "    <tr style=\"text-align: right;\">\n",
       "      <th></th>\n",
       "      <th>x</th>\n",
       "      <th>t</th>\n",
       "    </tr>\n",
       "  </thead>\n",
       "  <tbody>\n",
       "    <tr>\n",
       "      <th>0</th>\n",
       "      <td>0.754525</td>\n",
       "      <td>-0.999596</td>\n",
       "    </tr>\n",
       "    <tr>\n",
       "      <th>1</th>\n",
       "      <td>0.175460</td>\n",
       "      <td>0.892316</td>\n",
       "    </tr>\n",
       "    <tr>\n",
       "      <th>2</th>\n",
       "      <td>0.650307</td>\n",
       "      <td>-0.810148</td>\n",
       "    </tr>\n",
       "    <tr>\n",
       "      <th>3</th>\n",
       "      <td>0.416447</td>\n",
       "      <td>0.501196</td>\n",
       "    </tr>\n",
       "    <tr>\n",
       "      <th>4</th>\n",
       "      <td>0.221488</td>\n",
       "      <td>0.983996</td>\n",
       "    </tr>\n",
       "    <tr>\n",
       "      <th>...</th>\n",
       "      <td>...</td>\n",
       "      <td>...</td>\n",
       "    </tr>\n",
       "    <tr>\n",
       "      <th>125</th>\n",
       "      <td>0.794566</td>\n",
       "      <td>-0.966038</td>\n",
       "    </tr>\n",
       "    <tr>\n",
       "      <th>126</th>\n",
       "      <td>0.730350</td>\n",
       "      <td>-0.981837</td>\n",
       "    </tr>\n",
       "    <tr>\n",
       "      <th>127</th>\n",
       "      <td>0.565978</td>\n",
       "      <td>-0.389012</td>\n",
       "    </tr>\n",
       "    <tr>\n",
       "      <th>128</th>\n",
       "      <td>0.602873</td>\n",
       "      <td>-0.595402</td>\n",
       "    </tr>\n",
       "    <tr>\n",
       "      <th>129</th>\n",
       "      <td>0.825171</td>\n",
       "      <td>-0.891988</td>\n",
       "    </tr>\n",
       "  </tbody>\n",
       "</table>\n",
       "<p>130 rows × 2 columns</p>\n",
       "</div>"
      ],
      "text/plain": [
       "            x         t\n",
       "0    0.754525 -0.999596\n",
       "1    0.175460  0.892316\n",
       "2    0.650307 -0.810148\n",
       "3    0.416447  0.501196\n",
       "4    0.221488  0.983996\n",
       "..        ...       ...\n",
       "125  0.794566 -0.966038\n",
       "126  0.730350 -0.981837\n",
       "127  0.565978 -0.389012\n",
       "128  0.602873 -0.595402\n",
       "129  0.825171 -0.891988\n",
       "\n",
       "[130 rows x 2 columns]"
      ]
     },
     "execution_count": 22,
     "metadata": {},
     "output_type": "execute_result"
    }
   ],
   "source": [
    "# list all csv files only\n",
    "csv_files = glob.glob('*.{}'.format('csv'))\n",
    "csv_files\n",
    "\n",
    "\n",
    "dirty_training_set = pd.concat([pd.read_csv(f) for f in csv_files ], ignore_index=True)\n",
    "dirty_training_set "
   ]
  },
  {
   "cell_type": "code",
   "execution_count": 44,
   "id": "85da9454",
   "metadata": {},
   "outputs": [],
   "source": [
    "df_test = pd.read_csv('data3.csv')"
   ]
  },
  {
   "cell_type": "code",
   "execution_count": 23,
   "id": "d00a3a40",
   "metadata": {},
   "outputs": [],
   "source": [
    "training_set = dirty_training_set.dropna() "
   ]
  },
  {
   "cell_type": "code",
   "execution_count": 24,
   "id": "8adac94b",
   "metadata": {},
   "outputs": [
    {
     "name": "stdout",
     "output_type": "stream",
     "text": [
      "Rows before clean:  260 \n",
      "\n",
      "Rows after clean:  260 \n",
      "\n"
     ]
    }
   ],
   "source": [
    "print (\"Rows before clean: \", dirty_training_set.size, \"\\n\")\n",
    "print (\"Rows after clean: \", training_set.size, \"\\n\")"
   ]
  },
  {
   "cell_type": "code",
   "execution_count": 27,
   "id": "d16eb0de",
   "metadata": {},
   "outputs": [],
   "source": [
    "x_training_set = training_set['x'].values\n",
    "y_training_set = training_set['t'].values"
   ]
  },
  {
   "cell_type": "code",
   "execution_count": 46,
   "id": "471f207a",
   "metadata": {},
   "outputs": [],
   "source": [
    "X_test = df_test['x'].values\n",
    "y_test = df_test['t'].values"
   ]
  },
  {
   "cell_type": "code",
   "execution_count": 82,
   "id": "6ff176b0",
   "metadata": {},
   "outputs": [],
   "source": [
    "lin = LinearRegression()\n",
    "lin.fit(x_training_set.reshape(-1,1),y_training_set)\n",
    "\n",
    "\n",
    "y_hat1 = lin.predict(x_training_set.reshape(-1,1))"
   ]
  },
  {
   "cell_type": "code",
   "execution_count": 84,
   "id": "898eb07b",
   "metadata": {},
   "outputs": [
    {
     "data": {
      "image/png": "[encoded data removed]",
      "text/plain": [
       "<Figure size 432x288 with 1 Axes>"
      ]
     },
     "metadata": {
      "needs_background": "light"
     },
     "output_type": "display_data"
    }
   ],
   "source": [
    "plt.scatter(x_training_set, y_training_set , color = 'blue')\n",
    "plt.plot(x_training_set, y_hat1, color = 'red')\n",
    "plt.title('Linear Regression')\n",
    "plt.xlabel('T')\n",
    "plt.ylabel('P')\n",
    "  \n",
    "plt.show()"
   ]
  },
  {
   "cell_type": "code",
   "execution_count": 95,
   "id": "cae20032",
   "metadata": {},
   "outputs": [
    {
     "name": "stdout",
     "output_type": "stream",
     "text": [
      "\n",
      "#################\n",
      "\n",
      "RMSE train: 0.12782852696756916\n",
      "RMSE test: 0.12782852696756916\n",
      "MAE train: 0.3076469812859178\n",
      "MAE test: 0.3076469812859178\n",
      "(0.12782852696756916, 0.12782852696756916, 0.3076469812859178, 0.3076469812859178)\n"
     ]
    }
   ],
   "source": [
    "print(evaluate( x_training_set, y_training_set , X_test , y_test,y_hat1))"
   ]
  },
  {
   "cell_type": "code",
   "execution_count": 77,
   "id": "6ee0cdc0",
   "metadata": {},
   "outputs": [],
   "source": [
    "poly = PolynomialFeatures(degree = 4)\n",
    "X_poly = poly.fit_transform(x_training_set.reshape(-1,1))\n",
    "\n",
    "poly.fit(X_poly, y_training_set)\n",
    "lin2 = LinearRegression()\n",
    "lin2.fit(X_poly, y_training_set)\n",
    "\n",
    "y_hat2 = lin2.predict(poly.fit_transform(x_training_set.reshape(-1,1)))"
   ]
  },
  {
   "cell_type": "code",
   "execution_count": 80,
   "id": "ebe28505",
   "metadata": {},
   "outputs": [
    {
     "data": {
      "image/png": "[encoded data removed]",
      "text/plain": [
       "<Figure size 432x288 with 1 Axes>"
      ]
     },
     "metadata": {
      "needs_background": "light"
     },
     "output_type": "display_data"
    }
   ],
   "source": [
    "# Visualising the Linear Regression results\n",
    "plt.scatter(X, y, color = 'blue')\n",
    "  \n",
    "plt.plot(x_training_set, y_hat, color = 'red')\n",
    "plt.title('Linear Regression')\n",
    "plt.xlabel('T')\n",
    "plt.ylabel('P')\n",
    "  \n",
    "plt.show()"
   ]
  },
  {
   "cell_type": "code",
   "execution_count": 97,
   "id": "48e6f543",
   "metadata": {},
   "outputs": [
    {
     "name": "stdout",
     "output_type": "stream",
     "text": [
      "\n",
      "#################\n",
      "\n",
      "RMSE train: 0.00405042526241841\n",
      "RMSE test: 0.00405042526241841\n",
      "MAE train: 0.05617127549044475\n",
      "MAE test: 0.05617127549044475\n",
      "(0.00405042526241841, 0.00405042526241841, 0.05617127549044475, 0.05617127549044475)\n"
     ]
    }
   ],
   "source": [
    "print(evaluate( x_training_set, y_training_set , X_test , y_test,y_hat2))"
   ]
  },
  {
   "cell_type": "code",
   "execution_count": 78,
   "id": "bc490d63",
   "metadata": {},
   "outputs": [],
   "source": [
    "poly = PolynomialFeatures(degree = 5)\n",
    "X_poly = poly.fit_transform(x_training_set.reshape(-1,1))\n",
    "\n",
    "poly.fit(X_poly, y_training_set)\n",
    "lin2 = LinearRegression()\n",
    "lin2.fit(X_poly, y_training_set)\n",
    "\n",
    "y_hat3 = lin2.predict(poly.fit_transform(x_training_set.reshape(-1,1)))"
   ]
  },
  {
   "cell_type": "code",
   "execution_count": 79,
   "id": "f1372127",
   "metadata": {},
   "outputs": [
    {
     "data": {
      "image/png": "[encoded data removed]",
      "text/plain": [
       "<Figure size 432x288 with 1 Axes>"
      ]
     },
     "metadata": {
      "needs_background": "light"
     },
     "output_type": "display_data"
    }
   ],
   "source": [
    "# Visualising the Linear Regression results\n",
    "plt.scatter(X, y, color = 'blue')\n",
    "  \n",
    "plt.plot(x_training_set, y_hat, color = 'red')\n",
    "plt.title('Linear Regression')\n",
    "plt.xlabel('T')\n",
    "plt.ylabel('P')\n",
    "  \n",
    "plt.show()"
   ]
  },
  {
   "cell_type": "code",
   "execution_count": 96,
   "id": "982b6a5e",
   "metadata": {},
   "outputs": [
    {
     "name": "stdout",
     "output_type": "stream",
     "text": [
      "\n",
      "#################\n",
      "\n",
      "RMSE train: 0.005732837791566532\n",
      "RMSE test: 0.005732837791566532\n",
      "MAE train: 0.06615386733939586\n",
      "MAE test: 0.06615386733939586\n",
      "(0.005732837791566532, 0.005732837791566532, 0.06615386733939586, 0.06615386733939586)\n"
     ]
    }
   ],
   "source": [
    "print(evaluate( x_training_set, y_training_set , X_test , y_test,y_hat3))"
   ]
  },
  {
   "cell_type": "code",
   "execution_count": null,
   "id": "5a0835d5",
   "metadata": {},
   "outputs": [],
   "source": []
  }
 ],
 "metadata": {
  "kernelspec": {
   "display_name": "Python 3 (ipykernel)",
   "language": "python",
   "name": "python3"
  },
  "language_info": {
   "codemirror_mode": {
    "name": "ipython",
    "version": 3
   },
   "file_extension": ".py",
   "mimetype": "text/x-python",
   "name": "python",
   "nbconvert_exporter": "python",
   "pygments_lexer": "ipython3",
   "version": "3.10.5"
  }
 },
 "nbformat": 4,
 "nbformat_minor": 5
}
